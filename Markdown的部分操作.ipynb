{
 "cells": [
  {
   "cell_type": "markdown",
   "metadata": {},
   "source": [
    "# 这个有道理 #\n",
    "\n",
    "* **这是黑体**\n",
    "\n",
    "* *这是斜体*\n",
    "\n"
   ]
  },
  {
   "cell_type": "markdown",
   "metadata": {},
   "source": [
    "### 插入数学符号 ###\n",
    "\n",
    "$e^{i\\pi}+1 = 0$\n",
    "\n",
    "$\\sum_{i = 1}^{i = n} ax + b$"
   ]
  },
  {
   "cell_type": "markdown",
   "metadata": {},
   "source": [
    "### 插入图片 ###\n",
    "\n",
    "![tupian](http://pic.qingting.fm/2018/0421/20180421072635816190.jpg%21800)\n"
   ]
  },
  {
   "cell_type": "markdown",
   "metadata": {},
   "source": [
    "img src=\"http://jupyter.org/assets/main-logo.svg\", width=320, heigth=240"
   ]
  },
  {
   "cell_type": "markdown",
   "metadata": {},
   "source": [
    "### 插入表格 ###\n",
    "| 你 | 我 | 他 |\n",
    "|----:|:----|----|\n",
    "|1|2|2|"
   ]
  }
 ],
 "metadata": {
  "kernelspec": {
   "display_name": "Python 3",
   "language": "python",
   "name": "python3"
  },
  "language_info": {
   "codemirror_mode": {
    "name": "ipython",
    "version": 3
   },
   "file_extension": ".py",
   "mimetype": "text/x-python",
   "name": "python",
   "nbconvert_exporter": "python",
   "pygments_lexer": "ipython3",
   "version": "3.7.1"
  }
 },
 "nbformat": 4,
 "nbformat_minor": 2
}
